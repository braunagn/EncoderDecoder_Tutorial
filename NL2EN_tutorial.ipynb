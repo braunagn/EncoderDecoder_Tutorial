{
 "cells": [
  {
   "cell_type": "code",
   "execution_count": 1,
   "id": "6fb3ba33-3de6-468c-a070-04886cb4329a",
   "metadata": {},
   "outputs": [],
   "source": [
    "# change directory to where the repo was locally saved on your machine\n",
    "import os\n",
    "os.chdir(\"C:/Users/braun/OneDrive/Desktop/NL2EN\")"
   ]
  },
  {
   "cell_type": "markdown",
   "id": "63222116-dcd6-4b26-b153-cd51d43ac1a1",
   "metadata": {},
   "source": [
    "# Data Preprocessing #"
   ]
  },
  {
   "cell_type": "code",
   "execution_count": 2,
   "id": "33a649d6-bc3f-42e0-8141-865c8fcc1ce4",
   "metadata": {},
   "outputs": [],
   "source": [
    "# First, let's read sentences pairs into memory and inspect\n",
    "\n",
    "import pandas as pd\n",
    "\n",
    "df = pd.read_csv(\"sentences.tsv\", sep='\\t', usecols=[1,3], names=[\"en\", \"nl\"])"
   ]
  },
  {
   "cell_type": "code",
   "execution_count": 3,
   "id": "1734866e-2bef-4190-adb7-f51f9a043884",
   "metadata": {},
   "outputs": [
    {
     "name": "stdout",
     "output_type": "stream",
     "text": [
      "(147838, 2)\n"
     ]
    },
    {
     "data": {
      "text/html": [
       "<div>\n",
       "<style scoped>\n",
       "    .dataframe tbody tr th:only-of-type {\n",
       "        vertical-align: middle;\n",
       "    }\n",
       "\n",
       "    .dataframe tbody tr th {\n",
       "        vertical-align: top;\n",
       "    }\n",
       "\n",
       "    .dataframe thead th {\n",
       "        text-align: right;\n",
       "    }\n",
       "</style>\n",
       "<table border=\"1\" class=\"dataframe\">\n",
       "  <thead>\n",
       "    <tr style=\"text-align: right;\">\n",
       "      <th></th>\n",
       "      <th>en</th>\n",
       "      <th>nl</th>\n",
       "    </tr>\n",
       "  </thead>\n",
       "  <tbody>\n",
       "    <tr>\n",
       "      <th>0</th>\n",
       "      <td>Let's try something.</td>\n",
       "      <td>Laten we iets proberen!</td>\n",
       "    </tr>\n",
       "    <tr>\n",
       "      <th>1</th>\n",
       "      <td>Let's try something.</td>\n",
       "      <td>Laat ons iets proberen.</td>\n",
       "    </tr>\n",
       "    <tr>\n",
       "      <th>2</th>\n",
       "      <td>I have to go to sleep.</td>\n",
       "      <td>Ik moet gaan slapen.</td>\n",
       "    </tr>\n",
       "    <tr>\n",
       "      <th>3</th>\n",
       "      <td>Today is June 18th and it is Muiriel's birthday!</td>\n",
       "      <td>Vandaag is het 18 juni en het is de verjaardag...</td>\n",
       "    </tr>\n",
       "    <tr>\n",
       "      <th>4</th>\n",
       "      <td>Muiriel is 20 now.</td>\n",
       "      <td>Muiriel is nu 20 jaar oud.</td>\n",
       "    </tr>\n",
       "  </tbody>\n",
       "</table>\n",
       "</div>"
      ],
      "text/plain": [
       "                                                 en  \\\n",
       "0                              Let's try something.   \n",
       "1                              Let's try something.   \n",
       "2                            I have to go to sleep.   \n",
       "3  Today is June 18th and it is Muiriel's birthday!   \n",
       "4                                Muiriel is 20 now.   \n",
       "\n",
       "                                                  nl  \n",
       "0                            Laten we iets proberen!  \n",
       "1                            Laat ons iets proberen.  \n",
       "2                               Ik moet gaan slapen.  \n",
       "3  Vandaag is het 18 juni en het is de verjaardag...  \n",
       "4                         Muiriel is nu 20 jaar oud.  "
      ]
     },
     "execution_count": 3,
     "metadata": {},
     "output_type": "execute_result"
    }
   ],
   "source": [
    "print(df.shape)\n",
    "df.head()"
   ]
  },
  {
   "cell_type": "code",
   "execution_count": 4,
   "id": "5114c208-aa5e-49e6-9a47-4abc6841b775",
   "metadata": {},
   "outputs": [
    {
     "name": "stdout",
     "output_type": "stream",
     "text": [
      "mean      30.300877\n",
      "median    27.000000\n",
      "Name: en, dtype: float64\n"
     ]
    },
    {
     "data": {
      "text/plain": [
       "<Axes: ylabel='Frequency'>"
      ]
     },
     "execution_count": 4,
     "metadata": {},
     "output_type": "execute_result"
    },
    {
     "data": {
      "image/png": "[encoded data removed]",
      "text/plain": [
       "<Figure size 500x300 with 1 Axes>"
      ]
     },
     "metadata": {},
     "output_type": "display_data"
    }
   ],
   "source": [
    "# most sentences are pretty short (~30 characters); model capability will reflect this.\n",
    "\n",
    "print(df.en.apply(len).aggregate([\"mean\", \"median\"]))\n",
    "df.en.apply(len).plot.hist(bins=300, xlim=(0,150), figsize=(5,3))"
   ]
  },
  {
   "cell_type": "code",
   "execution_count": 5,
   "id": "881b431b-c5ea-4264-8792-6e23841038c7",
   "metadata": {},
   "outputs": [],
   "source": [
    "# perform cleanup:\n",
    "# 1) remove null rows\n",
    "# 2) remove sentences with non-NL/EN characters\n",
    "# 3) replace escape characters with blank \"\"\n",
    "# 4) strip sentences of any whitespaces\n",
    "# 5) add BOS_TOKEN <s> and EOS_TOKEN </s> to each sentence (for training prep)\n",
    "# net result: ~5K rows (~3%) of dataset is ignored\n",
    "\n",
    "import sentence_prep\n",
    "\n",
    "data = sentence_prep.initial_cleanup(df)"
   ]
  },
  {
   "cell_type": "code",
   "execution_count": 6,
   "id": "5babe23c-374c-4d73-bb39-9b2a0180ffd3",
   "metadata": {},
   "outputs": [
    {
     "name": "stdout",
     "output_type": "stream",
     "text": [
      "(142776, 2)\n"
     ]
    },
    {
     "data": {
      "text/html": [
       "<div>\n",
       "<style scoped>\n",
       "    .dataframe tbody tr th:only-of-type {\n",
       "        vertical-align: middle;\n",
       "    }\n",
       "\n",
       "    .dataframe tbody tr th {\n",
       "        vertical-align: top;\n",
       "    }\n",
       "\n",
       "    .dataframe thead th {\n",
       "        text-align: right;\n",
       "    }\n",
       "</style>\n",
       "<table border=\"1\" class=\"dataframe\">\n",
       "  <thead>\n",
       "    <tr style=\"text-align: right;\">\n",
       "      <th></th>\n",
       "      <th>en</th>\n",
       "      <th>nl</th>\n",
       "    </tr>\n",
       "  </thead>\n",
       "  <tbody>\n",
       "    <tr>\n",
       "      <th>0</th>\n",
       "      <td>&lt;s&gt;Let's try something.&lt;/s&gt;</td>\n",
       "      <td>&lt;s&gt;Laten we iets proberen!&lt;/s&gt;</td>\n",
       "    </tr>\n",
       "    <tr>\n",
       "      <th>1</th>\n",
       "      <td>&lt;s&gt;Let's try something.&lt;/s&gt;</td>\n",
       "      <td>&lt;s&gt;Laat ons iets proberen.&lt;/s&gt;</td>\n",
       "    </tr>\n",
       "    <tr>\n",
       "      <th>2</th>\n",
       "      <td>&lt;s&gt;I have to go to sleep.&lt;/s&gt;</td>\n",
       "      <td>&lt;s&gt;Ik moet gaan slapen.&lt;/s&gt;</td>\n",
       "    </tr>\n",
       "    <tr>\n",
       "      <th>3</th>\n",
       "      <td>&lt;s&gt;Today is June 18th and it is Muiriel's birt...</td>\n",
       "      <td>&lt;s&gt;Vandaag is het 18 juni en het is de verjaar...</td>\n",
       "    </tr>\n",
       "    <tr>\n",
       "      <th>4</th>\n",
       "      <td>&lt;s&gt;Muiriel is 20 now.&lt;/s&gt;</td>\n",
       "      <td>&lt;s&gt;Muiriel is nu 20 jaar oud.&lt;/s&gt;</td>\n",
       "    </tr>\n",
       "  </tbody>\n",
       "</table>\n",
       "</div>"
      ],
      "text/plain": [
       "                                                  en  \\\n",
       "0                        <s>Let's try something.</s>   \n",
       "1                        <s>Let's try something.</s>   \n",
       "2                      <s>I have to go to sleep.</s>   \n",
       "3  <s>Today is June 18th and it is Muiriel's birt...   \n",
       "4                          <s>Muiriel is 20 now.</s>   \n",
       "\n",
       "                                                  nl  \n",
       "0                     <s>Laten we iets proberen!</s>  \n",
       "1                     <s>Laat ons iets proberen.</s>  \n",
       "2                        <s>Ik moet gaan slapen.</s>  \n",
       "3  <s>Vandaag is het 18 juni en het is de verjaar...  \n",
       "4                  <s>Muiriel is nu 20 jaar oud.</s>  "
      ]
     },
     "execution_count": 6,
     "metadata": {},
     "output_type": "execute_result"
    }
   ],
   "source": [
    "print(data.shape)\n",
    "data.head()"
   ]
  },
  {
   "cell_type": "markdown",
   "id": "efcf3323-10ee-44a9-9976-8416db03123e",
   "metadata": {},
   "source": [
    "# Tokenization #"
   ]
  },
  {
   "cell_type": "code",
   "execution_count": 7,
   "id": "ff2281ed-051b-4a97-b046-ad7aeec25258",
   "metadata": {},
   "outputs": [
    {
     "name": "stdout",
     "output_type": "stream",
     "text": [
      "tokenizer training complete\n"
     ]
    }
   ],
   "source": [
    "# we now train a tokenizer specifically for our dataset (vs. using a pre-trained)\n",
    "# the tokenization process will follow Byte-Pair-Encoding (BPE) in which words are broken into subwords based upon occurence\n",
    "# more details here: https://en.wikipedia.org/wiki/Byte_pair_encoding\n",
    "\n",
    "# note: you can change tokenizer and training settings in config.py\n",
    "# in this case, we want the tokenizer to produce a vocab of 30k tokens\n",
    "import tokenizer_prep\n",
    "\n",
    "tokenizer = tokenizer_prep.train_tokenizer(data)"
   ]
  },
  {
   "cell_type": "code",
   "execution_count": 8,
   "id": "f11e5ce7-3c03-47a4-9a79-86c1c0e546ed",
   "metadata": {},
   "outputs": [
    {
     "name": "stdout",
     "output_type": "stream",
     "text": [
      "a few tokens from the vocab:\n",
      "{'Ġeenyġ': 30003, 'Ġpassionateġ': 30002, 'Ġpassendeġ': 30001, 'Ġbijgedragenġ': 30000, 'Ġbijvoe': 29999, 'Ġbijgekomenġ': 29998, 'Ġbijzi': 29997, 'Ġbijeenġ': 29996, 'Ġterugwegġ': 29995, 'Ġverzekerġ': 29994}\n",
      "\n",
      "special tokens are inserted into the vocab first and thus have a small token id:\n",
      "{'<s>': 0, '</s>': 1, '[PAD]': 2, '[UNK]': 3, '!': 4, '$': 5, '%': 6, \"'\": 7, ',': 8, '-': 9}\n"
     ]
    }
   ],
   "source": [
    "# the tokenizer has now generated a 30K vocab for us (plus special tokens), which we can inspect.\n",
    "# each subword/token is a key, and the arbitrary token id is the value\n",
    "\n",
    "vocab = tokenizer.get_vocab()\n",
    "\n",
    "print(\"a few tokens from the vocab:\")\n",
    "print(dict(sorted(vocab.items(), key = lambda x: x[1], reverse = True)[:10]))\n",
    "print(\"\\nspecial tokens are inserted into the vocab first and thus have a small token id:\")\n",
    "print(dict(sorted(vocab.items(), key = lambda x: x[1], reverse = False)[:10]))"
   ]
  },
  {
   "cell_type": "code",
   "execution_count": 9,
   "id": "2a27df1b-6406-4e3f-89e3-ebeb220e7c3b",
   "metadata": {},
   "outputs": [
    {
     "name": "stdout",
     "output_type": "stream",
     "text": [
      "tokens:\n",
      " ['<s>', 'ĠTheġ', 'Ġdogġ', 'Ġisġ', 'Ġblackġ', '.ġ', '</s>', '[PAD]', '[PAD]', '[PAD]', '[PAD]', '[PAD]', '[PAD]', '[PAD]', '[PAD]', '[PAD]', '[PAD]', '[PAD]', '[PAD]', '[PAD]', '[PAD]', '[PAD]', '[PAD]', '[PAD]', '[PAD]', '[PAD]', '[PAD]', '[PAD]', '[PAD]', '[PAD]']\n",
      "\n",
      "token_ds:\n",
      " [0, 4965, 1387, 305, 2969, 233, 1, 2, 2, 2, 2, 2, 2, 2, 2, 2, 2, 2, 2, 2, 2, 2, 2, 2, 2, 2, 2, 2, 2, 2]\n"
     ]
    }
   ],
   "source": [
    "# With a trained tokenizer, we can tokenize a sentence.  We include the BOS/EOS tokens for proper tokenization\n",
    "# note the tokenizer includes a right PAD (special token) up to the model's pre-determined sequence limit\n",
    "\n",
    "e = tokenizer.encode(\"<s>The dog is black.</s>\")\n",
    "\n",
    "print(\"tokens:\\n\",e.tokens)\n",
    "print(\"\\ntoken_ds:\\n\",e.ids)"
   ]
  },
  {
   "cell_type": "code",
   "execution_count": 10,
   "id": "b016f53f-a2f8-4571-9e24-054ba3d2fc1a",
   "metadata": {},
   "outputs": [],
   "source": [
    "# we encode all of the sentences from our dataset.\n",
    "# this produces a list of Encoding objects, which contain the sequence token and ids\n",
    "\n",
    "nl_encoded = tokenizer.encode_batch(data.nl.values)\n",
    "en_encoded = tokenizer.encode_batch(data.en.values)"
   ]
  },
  {
   "cell_type": "code",
   "execution_count": 11,
   "id": "dadd37cd-a968-48c6-83e1-651d91c5c9de",
   "metadata": {},
   "outputs": [
    {
     "name": "stdout",
     "output_type": "stream",
     "text": [
      "Encoding(num_tokens=30, attributes=[ids, type_ids, tokens, offsets, attention_mask, special_tokens_mask, overflowing]) \n",
      "\n",
      "['<s>', 'ĠLatenġ', 'Ġweġ', 'Ġietsġ', 'Ġproberenġ', '!ġ', '</s>', '[PAD]', '[PAD]', '[PAD]', '[PAD]', '[PAD]', '[PAD]', '[PAD]', '[PAD]', '[PAD]', '[PAD]', '[PAD]', '[PAD]', '[PAD]', '[PAD]', '[PAD]', '[PAD]', '[PAD]', '[PAD]', '[PAD]', '[PAD]', '[PAD]', '[PAD]', '[PAD]'] \n",
      "\n",
      "[0, 13518, 519, 947, 2806, 262, 1, 2, 2, 2, 2, 2, 2, 2, 2, 2, 2, 2, 2, 2, 2, 2, 2, 2, 2, 2, 2, 2, 2, 2] \n",
      "\n"
     ]
    }
   ],
   "source": [
    "print(nl_encoded[0], \"\\n\")\n",
    "print(nl_encoded[0].tokens, \"\\n\")\n",
    "print(nl_encoded[0].ids, \"\\n\")"
   ]
  },
  {
   "cell_type": "code",
   "execution_count": 12,
   "id": "11dabeab-c79e-4a9c-84f5-64847028658b",
   "metadata": {},
   "outputs": [],
   "source": [
    "# to assist with training, we'll group the encoded sentences by equal-length\n",
    "# this produces a list of tuples with structure:\n",
    "# [\n",
    "#     (seq01, seq02),\n",
    "#     (seq11, seq12),\n",
    "#     (seq21, seq22),\n",
    "#     ...\n",
    "# ]\n",
    "import config\n",
    "\n",
    "ignore_token_ids = [tokenizer.token_to_id(x) for x in config.SPECIAL_TOKENS.values()]\n",
    "grouped_data = tokenizer_prep.group_sentences(nl_encoded, en_encoded, ignore_token_ids)"
   ]
  },
  {
   "cell_type": "code",
   "execution_count": 13,
   "id": "98d5a441-e547-44fc-a60f-1c9ab8296578",
   "metadata": {},
   "outputs": [
    {
     "data": {
      "text/plain": [
       "<Axes: title={'center': 'Sorted Dataset by Sentence Length'}, xlabel='# of Samples', ylabel='Length of Sequence'>"
      ]
     },
     "execution_count": 13,
     "metadata": {},
     "output_type": "execute_result"
    },
    {
     "data": {
      "image/png": "[encoded data removed]",
      "text/plain": [
       "<Figure size 600x300 with 1 Axes>"
      ]
     },
     "metadata": {},
     "output_type": "display_data"
    }
   ],
   "source": [
    "# we can visualize the groups to ensure proper grouping\n",
    "# we will feed the data (sorted in this order) into the model, thus no shuffling for training\n",
    "import tokenizer_prep\n",
    "\n",
    "# Note: grouping was performed on NL sentences,\n",
    "# so EN groupings are not as clean but do mimic a similar trend\n",
    "tmp = pd.DataFrame.from_records(grouped_data, columns=[\"nl\", \"en\"])\n",
    "tmp[[\"en\",\"nl\"]].applymap(lambda x: tokenizer_prep.sequence_length(x, ignore_token_ids)).plot(\n",
    "    title=\"Sorted Dataset by Sentence Length\",\n",
    "    xlabel=\"# of Samples\",\n",
    "    ylabel=\"Length of Sequence\",\n",
    "    figsize=(6,3),\n",
    ")"
   ]
  },
  {
   "cell_type": "markdown",
   "id": "c191e6ef-5d02-4977-986d-9c1ece488ff6",
   "metadata": {},
   "source": [
    "# Model Training Data Setup #"
   ]
  },
  {
   "cell_type": "code",
   "execution_count": 14,
   "id": "a743d59a-d89d-4a3f-baef-d6fb04c7f82c",
   "metadata": {},
   "outputs": [],
   "source": [
    "# Encoder/Decoder Transformers have two inputs, X1 (encoder) and X2 (decoder)\n",
    "# X1 is the sentence to be translated (NL is our case) and\n",
    "# X2 is the EN sentences to be translated into.\n",
    "\n",
    "# output (y) will be a +1 shifted version of X2 (i.e. next token) where y(t) = X2(t-1)\n",
    "\n",
    "# For training, we provide the entire length of X1, X2, and y to the model and \n",
    "# perform masking to retain the auto-regressive property of Transformers\n",
    "import numpy as np\n",
    "\n",
    "X1 = np.array([x[0] for x in grouped_data]).reshape(len(grouped_data), config.T)\n",
    "X2 = np.array([x[1] for x in grouped_data]).reshape(len(grouped_data), config.T)\n",
    "\n",
    "pad_token_id = tokenizer.token_to_id(config.SPECIAL_TOKENS[\"PAD_TOKEN\"])\n",
    "y = np.array([x[1][1:] + [pad_token_id] for x in grouped_data])"
   ]
  },
  {
   "cell_type": "code",
   "execution_count": 15,
   "id": "742042a5-cc3c-48cf-a2c0-1512afec5585",
   "metadata": {},
   "outputs": [
    {
     "name": "stdout",
     "output_type": "stream",
     "text": [
      "X2 sample:\n",
      " [    0   690   296   522   513   967   360   488  4797  1748   267   414\n",
      "  1074  7526   669   717  1010   513  2623   267  4481   455  2278   467\n",
      "   338  4797  7987   331 14008   233]\n",
      "\n",
      "y sample:\n",
      " [  690   296   522   513   967   360   488  4797  1748   267   414  1074\n",
      "  7526   669   717  1010   513  2623   267  4481   455  2278   467   338\n",
      "  4797  7987   331 14008   233     2]\n"
     ]
    }
   ],
   "source": [
    "# we can see that y is the shifted version of X2:\n",
    "print(\"X2 sample:\\n\", X2[0,:])\n",
    "print(\"\\ny sample:\\n\", y[0,:])"
   ]
  },
  {
   "cell_type": "code",
   "execution_count": 51,
   "id": "27c16b88-72bf-4bc8-b096-8918c08b3895",
   "metadata": {},
   "outputs": [],
   "source": [
    "# now we split our data into train/test and pass each to pytorch's `Dataset` class to enable seemless functionality during training\n",
    "# see dataset.py for notes on the Dataset setup\n",
    "\n",
    "import dataset\n",
    "importlib.reload(dataset)\n",
    "from sklearn.model_selection import train_test_split\n",
    "\n",
    "X1_train, X1_test, X2_train, X2_test, y_train, y_test = train_test_split(\n",
    "    X1,\n",
    "    X2,\n",
    "    y,\n",
    "    test_size=0.15, # change as desired\n",
    "    shuffle=False, # already shuffled and grouped\n",
    ")\n",
    "\n",
    "train_data = dataset.LanguageDataset(X1_train, X2_train, y_train, pad_token_id=pad_token_id)\n",
    "test_data = dataset.LanguageDataset(X1_test, X2_test, y_test, pad_token_id=pad_token_id)"
   ]
  },
  {
   "cell_type": "code",
   "execution_count": 52,
   "id": "3d7cce70-bb78-49ed-a521-f05ecadf5de0",
   "metadata": {},
   "outputs": [],
   "source": [
    "# we'll also setup DataLoaders which will serve our Transformer data during training\n",
    "# I have setup 1 loader for training, and two additional loaders for evaluation of \n",
    "# a larger portion of the train/test dataset (performed periodically throughout training)\n",
    "from torch.utils.data import DataLoader\n",
    "\n",
    "\n",
    "training_dl = DataLoader(\n",
    "    train_data,\n",
    "    batch_size=config.BATCH_SIZE,\n",
    "    shuffle=False,  # keep sequences of the same length together\n",
    "    drop_last=False,\n",
    ")\n",
    "\n",
    "# for loss performance over train/test datasets (vs. batch being trained on)\n",
    "train_dl = DataLoader(\n",
    "    train_data,\n",
    "    batch_size=config.BATCH_SIZE_VAL,\n",
    "    shuffle=True,   # sample across the dataset, regardless of sequence len\n",
    "    drop_last=False,\n",
    ")\n",
    "\n",
    "test_dl = DataLoader(\n",
    "    test_data,\n",
    "    batch_size=config.BATCH_SIZE_VAL,\n",
    "    shuffle=True,\n",
    "    drop_last=False,\n",
    ")"
   ]
  },
  {
   "cell_type": "code",
   "execution_count": 53,
   "id": "f893d2a6-0a0f-4ed5-b007-77f48263ddc5",
   "metadata": {},
   "outputs": [
    {
     "name": "stdout",
     "output_type": "stream",
     "text": [
      "X1 sample:\n",
      " tensor([    0, 23692,  1542,   351,   357,   353,  4806,   305,   267,  5895,\n",
      "          403,   477,   363,   353,   831,  1716,  2618,    90,  1150,   267,\n",
      "         6592,   344, 12443,   665,   551, 16179,   233, 21831,   387,   519],\n",
      "       dtype=torch.int32)\n",
      "\n",
      "X2 sample:\n",
      " tensor([    0,   690,   296,   522,   513,   967,   360,   488,  4797,  1748,\n",
      "          267,   414,  1074,  7526,   669,   717,  1010,   513,  2623,   267,\n",
      "         4481,   455,  2278,   467,   338,  4797,  7987,   331, 14008,   233],\n",
      "       dtype=torch.int32)\n",
      "\n",
      "y sample:\n",
      " tensor([  690,   296,   522,   513,   967,   360,   488,  4797,  1748,   267,\n",
      "          414,  1074,  7526,   669,   717,  1010,   513,  2623,   267,  4481,\n",
      "          455,  2278,   467,   338,  4797,  7987,   331, 14008,   233,     2])\n",
      "\n",
      "X1 padding sample:\n",
      " tensor([[False, False, False, False, False, False, False, False, False, False,\n",
      "         False, False, False, False, False, False, False, False, False, False,\n",
      "         False, False, False, False, False, False, False, False, False, False]])\n"
     ]
    }
   ],
   "source": [
    "# the training dataloader will pass the model a number of sequences (of batch size)\n",
    "# each batch setup will be as follows\n",
    "\n",
    "training_dl_iter = iter(training_dl)\n",
    "x1, x2, y_batch, x1padmask = next(training_dl_iter)\n",
    "\n",
    "print(\"X1 sample:\\n\", x1[0])\n",
    "print(\"\\nX2 sample:\\n\", x2[0])\n",
    "print(\"\\ny sample:\\n\", y_batch[0])\n",
    "print(\"\\nX1 padding sample:\\n\", x1padmask[0])"
   ]
  },
  {
   "cell_type": "markdown",
   "id": "5e5fb692-a2c6-49d2-ae4b-534a06153a47",
   "metadata": {},
   "source": [
    "# Model Architecture #"
   ]
  },
  {
   "cell_type": "markdown",
   "id": "8ebc4d69-4865-4ef5-b0e1-788a1903fa76",
   "metadata": {},
   "source": [
    "This example closely follows the model architecture of the paper \"Attention is All You Need\".\n",
    "\n",
    "I have created a detailed visual of the model architecture here:\n",
    " https://docs.google.com/presentation/d/1sRWV0hxIgL8ZNyrqV_jz7vX5l815RJI5l_KlXoVJHAQ/edit#slide=id.g29d8fe39d9a_0_\n",
    "\n",
    "See the model.py file for model specifics.  I have annotated throughout, and have included tensor sizes at relevant steps.  Each class\n",
    "object relates to an item within the architecture visual at the above link.\n",
    "\n",
    "Note, for convenience, I have included the inference (generate) function within the model object itself.\n",
    "Therefore, we also need to pass the tokenizer to the model (even though the tokenizer is not involed during training, just\n",
    "during inference for encoding/decode input/output)"
   ]
  },
  {
   "cell_type": "code",
   "execution_count": 54,
   "id": "dd6a46fd-23b0-4c1d-8bab-44cb2001cf78",
   "metadata": {},
   "outputs": [
    {
     "name": "stdout",
     "output_type": "stream",
     "text": [
      "auto scho auto fooicod within rapid abandon repeat announced paraff soort link scho biologisch USA Spot Prices bet confir afsluiten vermakelijk vijfhonderdav gevestH mirsber kill Read\n"
     ]
    }
   ],
   "source": [
    "# model is initialized using params located in config.py\n",
    "\n",
    "import model\n",
    "model = model.LanguageModel(tokenizer).to(config.DEVICE)\n",
    "\n",
    "# model weights are random, so output is nonsensical at this point\n",
    "s = \"De lucht is blauw.\"  # \"The sky is blue.\"\n",
    "print(model.generate(s))"
   ]
  },
  {
   "cell_type": "markdown",
   "id": "306c1711-d9b9-4230-8f63-dca8174df10f",
   "metadata": {},
   "source": [
    "# Training #"
   ]
  },
  {
   "cell_type": "code",
   "execution_count": 55,
   "id": "9d0ebce7-6fa5-4d1d-a3f4-d46776d42383",
   "metadata": {},
   "outputs": [],
   "source": [
    "# for training, we need five things:\n",
    "\n",
    "# 1) data, connected to data loaders - ✅\n",
    "# 2) a model object - ✅\n",
    "# 3) a loss function - TODO\n",
    "# 4) an optimizer - TODO\n",
    "# 5) learning schedule - TODO\n",
    "\n",
    "# for #3, we'll use pytorch's CrossEntropyLoss() given this is a multiclass problem (each token in the vocab is a 'class').\n",
    "# Note this loss function does NOT require softmax (probability) output from the model and expects raw 'logits'.\n",
    "\n",
    "# for #4, we'll use AdamW\n",
    "# for #5, we'll use a \"one cycle\" learning rate schedule.  This involves a quick \"warm up\" period\n",
    "# followed by a decaying learning rate over time (see below graph).\n",
    "# I recommend reviewing the different learning schedule options. see here for example visuals on each scheduler: \n",
    "# https://medium.com/towards-data-science/a-visual-guide-to-learning-rate-schedulers-in-pytorch-24bbb262c863"
   ]
  },
  {
   "cell_type": "code",
   "execution_count": 124,
   "id": "242c0a72-dffc-442c-b3ce-b7e53d344a46",
   "metadata": {},
   "outputs": [],
   "source": [
    "from torch.optim import AdamW\n",
    "from torch.optim.lr_scheduler import OneCycleLR\n",
    "import torch.nn as nn\n",
    "\n",
    "# note: you can change training settings in config.py\n",
    "\n",
    "import importlib\n",
    "importlib.reload(config)\n",
    "\n",
    "steps_per_epoch = int(train_data.__len__() / training_dl.batch_size)\n",
    "\n",
    "# 3) loss function\n",
    "loss_fn = nn.CrossEntropyLoss(ignore_index=pad_token_id, label_smoothing=0.1)  # don't compute loss for pad tokens\n",
    "\n",
    "# 4) optimizer\n",
    "optimizer = AdamW(\n",
    "    model.parameters(),\n",
    "    lr=config.INITIAL_LR,\n",
    "    betas=(0.9, 0.999),\n",
    "    weight_decay=1e-2,\n",
    ")\n",
    "\n",
    "# 5) learning schedule\n",
    "scheduler = OneCycleLR(\n",
    "    optimizer,\n",
    "    max_lr=config.MAX_LR,\n",
    "    epochs=config.EPOCHS,\n",
    "    steps_per_epoch=steps_per_epoch,\n",
    "    pct_start=config.WARMUP_STEPS / (config.EPOCHS *  steps_per_epoch),\n",
    "    anneal_strategy=\"cos\",\n",
    "    cycle_momentum=True,\n",
    "    base_momentum=0.7,\n",
    "    max_momentum=.99,  # results in ZeroDivisionError if 1.0\n",
    "    div_factor=config.MAX_LR / config.INITIAL_LR,\n",
    "    final_div_factor=config.INITIAL_LR / config.FINAL_LR,\n",
    ")"
   ]
  },
  {
   "cell_type": "code",
   "execution_count": 123,
   "id": "21c77138-d3e4-4863-8479-1c64eacb8064",
   "metadata": {},
   "outputs": [
    {
     "name": "stderr",
     "output_type": "stream",
     "text": [
      "C:\\Users\\braun\\anaconda3\\envs\\NL2EN\\lib\\site-packages\\torch\\optim\\lr_scheduler.py:136: UserWarning: Detected call of `lr_scheduler.step()` before `optimizer.step()`. In PyTorch 1.1.0 and later, you should call them in the opposite order: `optimizer.step()` before `lr_scheduler.step()`.  Failure to do this will result in PyTorch skipping the first value of the learning rate schedule. See more details at https://pytorch.org/docs/stable/optim.html#how-to-adjust-learning-rate\n",
      "  warnings.warn(\"Detected call of `lr_scheduler.step()` before `optimizer.step()`. \"\n"
     ]
    },
    {
     "data": {
      "text/plain": [
       "<Axes: title={'center': 'Learning Rate Schedule (All Epochs Combined)'}, xlabel='training step', ylabel='learning rate'>"
      ]
     },
     "execution_count": 123,
     "metadata": {},
     "output_type": "execute_result"
    },
    {
     "data": {
      "image/png": "[encoded data removed]",
      "text/plain": [
       "<Figure size 600x300 with 1 Axes>"
      ]
     },
     "metadata": {},
     "output_type": "display_data"
    }
   ],
   "source": [
    "# in this case, well have epochs=10, with an initial learning rate of 1e-7, 5000 steps of warmup,\n",
    "# a max learning rate of 1e-5, and then a long decay to 1e-6 learning rate.  See graph below for visualization of this.\n",
    "# note: must reinitialize scheduler if executing this block\n",
    "l = []\n",
    "for _ in range(config.EPOCHS * steps_per_epoch):\n",
    "    l.append(scheduler.get_last_lr()[0])\n",
    "    scheduler.step()\n",
    "\n",
    "pd.Series(l).plot(title=\"Learning Rate Schedule (All Epochs Combined)\", figsize=(6,3), ylabel=\"learning rate\", xlabel=\"training step\")"
   ]
  },
  {
   "cell_type": "code",
   "execution_count": 57,
   "id": "1bde0192-e2ba-4a3f-832b-824b41b9feb2",
   "metadata": {},
   "outputs": [],
   "source": [
    "# we completed all required steps, so training may commence:\n",
    "\n",
    "# 1) data, connected to data loaders - ✅\n",
    "# 2) a model object - ✅\n",
    "# 3) a loss function - ✅\n",
    "# 4) an optimizer - ✅\n",
    "# 5) learning schedule - ✅"
   ]
  },
  {
   "cell_type": "code",
   "execution_count": null,
   "id": "76a91dc9-77ff-4cce-942e-b6c38bc70324",
   "metadata": {},
   "outputs": [],
   "source": [
    "# training loop which prints out loss updates X number of times within each epoch (see config.PRINT_TIMES_PER_EPOCH)\n",
    "\n",
    "import time\n",
    "\n",
    "\n",
    "import importlib\n",
    "importlib.reload(config)\n",
    "\n",
    "\n",
    "val_loss = []\n",
    "bpe = train_data.__len__() // config.BATCH_SIZE\n",
    "train_iter = iter(train_dl)  # for eval of loss over training set\n",
    "test_iter = iter(test_dl)    # for eval of loss over testing set\n",
    "\n",
    "print(f\"Training with: epochs: {config.EPOCHS} | batch size: {config.BATCH_SIZE} | batches-per-epoch: {bpe}\")\n",
    "\n",
    "for e in range(config.EPOCHS):\n",
    "    times = [time.time()]\n",
    "    for batch_id, (x1_train_batch, x2_train_batch, y_train_batch, x1padmask_batch) in enumerate(training_dl):\n",
    "        model.train()\n",
    "        logits = model(x1_train_batch, x2_train_batch, x1padmask_batch)\n",
    "        b, t, v = logits.shape  # needed for last batch in epoch that may not be of BATCH_SIZE\n",
    "        logits = logits.view(b * t, v)  # reshape for loss calc\n",
    "        y_train_batch = y_train_batch.view(b * t)  # reshape for loss calc\n",
    "        training_loss = loss_fn(logits, y_train_batch)\n",
    "\n",
    "        optimizer.zero_grad()\n",
    "        training_loss.backward()\n",
    "        optimizer.step()\n",
    "        scheduler.step()\n",
    "\n",
    "        # print training updates as desired frequency\n",
    "        if batch_id % (bpe // config.PRINT_TIMES_PER_EPOCH) == 0:\n",
    "            train_iter = iter(train_dl)\n",
    "            x1_train, x2_train, y_train, x1padmask_train = next(train_iter)\n",
    "            logits = model(x1_train, x2_train, x1padmask_train)\n",
    "            logits = logits.view(config.BATCH_SIZE_EVAL * config.T, len(vocab))\n",
    "            y_train = y_train.view(config.BATCH_SIZE_EVAL * config.T)\n",
    "            train_loss = loss_fn(logits, y_train)\n",
    "\n",
    "            test_iter = iter(test_dl)\n",
    "            x1_test, x2_test, y_test, x1padmask_test = next(test_iter)\n",
    "            logits = model(x1_test, x2_test, x1padmask_test)\n",
    "            logits = logits.view(config.BATCH_SIZE_EVAL * config.T, len(vocab))\n",
    "            y_test = y_test.view(config.BATCH_SIZE_EVAL * config.T)\n",
    "            test_loss = loss_fn(logits, y_test)\n",
    "\n",
    "            if config.SAVE_PATH_MODEL_OBJ is not None:\n",
    "                # given a small model size, it's a good idea to save frequently in the event training timesouts (which\n",
    "                # is often the case on free services like google colab).  If this occurs, simply reload the model\n",
    "                # and start the training again.  Annoying but at least you're not starting from an untrained model.\n",
    "                torch.save(model, config.SAVE_PATH_MODEL_OBJ)\n",
    "\n",
    "            lr = scheduler.get_last_lr()[0]\n",
    "            t = time.time() - times[-1]\n",
    "            times.append(time.time())\n",
    "\n",
    "            print(f\"epoch: {e+1}  |  batch_id: {batch_id}  |  train loss: {train_loss:.7f}  |  test loss: {test_loss:.7f}  |  lr: {lr:.3e}  |  runtime: {t//60//60 % 60:.0f}h {t//60 % 60:.0f}m {t % 60:.0f}s\")"
   ]
  },
  {
   "cell_type": "code",
   "execution_count": 130,
   "id": "42972fca-03de-4f20-91c5-3f259031e1fd",
   "metadata": {},
   "outputs": [
    {
     "name": "stdout",
     "output_type": "stream",
     "text": [
      "\n",
      "Training with: epochs: 15 | batch size: 8 | batches-per-epoch: 15169\n",
      "epoch: 1  |  batch_id: 0  |  train loss: 10.5764971  |  test loss: 10.6315508  |  lr: 1.000e-07  |  runtime: 0h 0m 16s\n",
      "epoch: 1  |  batch_id: 303  |  train loss: 10.0541048  |  test loss: 10.0407505  |  lr: 2.195e-06  |  runtime: 0h 0m 51s\n",
      "epoch: 1  |  batch_id: 606  |  train loss: 7.1837711  |  test loss: 6.7496824  |  lr: 6.692e-06  |  runtime: 0h 0m 51s\n",
      "epoch: 1  |  batch_id: 909  |  train loss: 6.2527561  |  test loss: 6.4409866  |  lr: 9.807e-06  |  runtime: 0h 0m 51s\n",
      "epoch: 1  |  batch_id: 1212  |  train loss: 6.3624659  |  test loss: 6.0754085  |  lr: 1.000e-05  |  runtime: 0h 0m 51s\n",
      "epoch: 1  |  batch_id: 1515  |  train loss: 6.2190537  |  test loss: 5.8767591  |  lr: 9.999e-06  |  runtime: 0h 0m 50s\n",
      "epoch: 1  |  batch_id: 1818  |  train loss: 6.0730982  |  test loss: 5.6175365  |  lr: 9.997e-06  |  runtime: 0h 0m 49s\n",
      "epoch: 1  |  batch_id: 2121  |  train loss: 6.0330892  |  test loss: 6.2303038  |  lr: 9.995e-06  |  runtime: 0h 0m 52s\n",
      "epoch: 1  |  batch_id: 2424  |  train loss: 6.0368400  |  test loss: 5.6389322  |  lr: 9.992e-06  |  runtime: 0h 0m 51s\n",
      "epoch: 1  |  batch_id: 2727  |  train loss: 5.7655706  |  test loss: 5.6623583  |  lr: 9.988e-06  |  runtime: 0h 0m 48s\n",
      "epoch: 1  |  batch_id: 3030  |  train loss: 5.8397341  |  test loss: 5.5862918  |  lr: 9.984e-06  |  runtime: 0h 0m 51s\n",
      "epoch: 1  |  batch_id: 3333  |  train loss: 5.4854846  |  test loss: 5.4417448  |  lr: 9.978e-06  |  runtime: 0h 0m 52s\n",
      "epoch: 1  |  batch_id: 3636  |  train loss: 5.3478246  |  test loss: 5.0824389  |  lr: 9.972e-06  |  runtime: 0h 0m 52s\n",
      "epoch: 1  |  batch_id: 3939  |  train loss: 5.5073967  |  test loss: 5.2869239  |  lr: 9.966e-06  |  runtime: 0h 0m 52s\n",
      "epoch: 1  |  batch_id: 4242  |  train loss: 5.3716145  |  test loss: 4.9773941  |  lr: 9.958e-06  |  runtime: 0h 0m 49s\n",
      "epoch: 1  |  batch_id: 4545  |  train loss: 5.4414649  |  test loss: 5.0401287  |  lr: 9.950e-06  |  runtime: 0h 0m 52s\n",
      "epoch: 1  |  batch_id: 4848  |  train loss: 5.1516724  |  test loss: 4.9380960  |  lr: 9.941e-06  |  runtime: 0h 0m 52s\n",
      "epoch: 1  |  batch_id: 5151  |  train loss: 4.8237553  |  test loss: 5.0038419  |  lr: 9.932e-06  |  runtime: 0h 0m 52s\n",
      "epoch: 1  |  batch_id: 5454  |  train loss: 4.9646759  |  test loss: 4.7691832  |  lr: 9.922e-06  |  runtime: 0h 0m 52s\n",
      "epoch: 1  |  batch_id: 5757  |  train loss: 5.0942807  |  test loss: 4.5694723  |  lr: 9.911e-06  |  runtime: 0h 0m 48s\n",
      "epoch: 1  |  batch_id: 6060  |  train loss: 4.9786558  |  test loss: 4.8159800  |  lr: 9.899e-06  |  runtime: 0h 0m 48s\n",
      "epoch: 1  |  batch_id: 6363  |  train loss: 4.7108536  |  test loss: 4.3138003  |  lr: 9.886e-06  |  runtime: 0h 0m 52s\n",
      "epoch: 1  |  batch_id: 6666  |  train loss: 4.9502025  |  test loss: 4.3791437  |  lr: 9.873e-06  |  runtime: 0h 0m 48s\n",
      "epoch: 1  |  batch_id: 6969  |  train loss: 4.5211692  |  test loss: 4.3625655  |  lr: 9.859e-06  |  runtime: 0h 0m 53s\n",
      "epoch: 1  |  batch_id: 7272  |  train loss: 4.5209274  |  test loss: 4.2593646  |  lr: 9.845e-06  |  runtime: 0h 0m 51s\n",
      "epoch: 1  |  batch_id: 7575  |  train loss: 4.2493529  |  test loss: 4.3387766  |  lr: 9.830e-06  |  runtime: 0h 0m 49s\n",
      "epoch: 1  |  batch_id: 7878  |  train loss: 4.4327130  |  test loss: 3.8929813  |  lr: 9.814e-06  |  runtime: 0h 0m 49s\n",
      "epoch: 1  |  batch_id: 8181  |  train loss: 4.3944745  |  test loss: 3.9729412  |  lr: 9.797e-06  |  runtime: 0h 0m 52s\n",
      "epoch: 1  |  batch_id: 8484  |  train loss: 4.5395327  |  test loss: 3.9314797  |  lr: 9.780e-06  |  runtime: 0h 0m 48s\n",
      "epoch: 1  |  batch_id: 8787  |  train loss: 4.2165246  |  test loss: 3.8516493  |  lr: 9.762e-06  |  runtime: 0h 0m 52s\n",
      "epoch: 1  |  batch_id: 9090  |  train loss: 3.9485164  |  test loss: 3.5586944  |  lr: 9.743e-06  |  runtime: 0h 0m 49s\n",
      "epoch: 1  |  batch_id: 9393  |  train loss: 4.4176283  |  test loss: 3.6758475  |  lr: 9.723e-06  |  runtime: 0h 0m 49s\n",
      "epoch: 1  |  batch_id: 9696  |  train loss: 3.7325158  |  test loss: 3.7423348  |  lr: 9.703e-06  |  runtime: 0h 0m 49s\n",
      "epoch: 1  |  batch_id: 9999  |  train loss: 4.2686276  |  test loss: 3.2791357  |  lr: 9.683e-06  |  runtime: 0h 0m 52s\n",
      "epoch: 1  |  batch_id: 10302  |  train loss: 3.9564426  |  test loss: 3.3372905  |  lr: 9.661e-06  |  runtime: 0h 0m 49s\n",
      "epoch: 1  |  batch_id: 10605  |  train loss: 3.7109032  |  test loss: 3.3946111  |  lr: 9.639e-06  |  runtime: 0h 0m 52s\n",
      "epoch: 1  |  batch_id: 10908  |  train loss: 3.9734540  |  test loss: 3.5189085  |  lr: 9.616e-06  |  runtime: 0h 0m 53s\n",
      "epoch: 1  |  batch_id: 11211  |  train loss: 3.7592158  |  test loss: 3.1796789  |  lr: 9.593e-06  |  runtime: 0h 0m 52s\n",
      "epoch: 1  |  batch_id: 11514  |  train loss: 3.8807640  |  test loss: 3.2179890  |  lr: 9.569e-06  |  runtime: 0h 0m 49s\n",
      "epoch: 1  |  batch_id: 11817  |  train loss: 3.7467432  |  test loss: 3.2717812  |  lr: 9.544e-06  |  runtime: 0h 0m 52s\n",
      "epoch: 1  |  batch_id: 12120  |  train loss: 3.9080772  |  test loss: 3.0951924  |  lr: 9.518e-06  |  runtime: 0h 0m 49s\n",
      "epoch: 1  |  batch_id: 12423  |  train loss: 4.0377059  |  test loss: 2.9612489  |  lr: 9.492e-06  |  runtime: 0h 0m 52s\n",
      "epoch: 1  |  batch_id: 12726  |  train loss: 3.4836502  |  test loss: 3.0369015  |  lr: 9.466e-06  |  runtime: 0h 0m 52s\n",
      "epoch: 1  |  batch_id: 13029  |  train loss: 3.2825174  |  test loss: 3.0176816  |  lr: 9.438e-06  |  runtime: 0h 0m 49s\n",
      "epoch: 1  |  batch_id: 13332  |  train loss: 3.4618349  |  test loss: 3.1378407  |  lr: 9.410e-06  |  runtime: 0h 0m 50s\n",
      "epoch: 1  |  batch_id: 13635  |  train loss: 3.2566295  |  test loss: 3.0439560  |  lr: 9.382e-06  |  runtime: 0h 0m 50s\n",
      "epoch: 1  |  batch_id: 13938  |  train loss: 3.7237830  |  test loss: 2.9553337  |  lr: 9.352e-06  |  runtime: 0h 0m 49s\n",
      "epoch: 1  |  batch_id: 14241  |  train loss: 3.8588316  |  test loss: 3.1134152  |  lr: 9.322e-06  |  runtime: 0h 0m 51s\n",
      "epoch: 1  |  batch_id: 14544  |  train loss: 3.8071933  |  test loss: 2.8343801  |  lr: 9.292e-06  |  runtime: 0h 0m 52s\n",
      "epoch: 1  |  batch_id: 14847  |  train loss: 3.5179975  |  test loss: 2.8789563  |  lr: 9.261e-06  |  runtime: 0h 0m 52s\n",
      "epoch: 1  |  batch_id: 15150  |  train loss: 3.5594645  |  test loss: 3.0006027  |  lr: 9.229e-06  |  runtime: 0h 0m 52s\n",
      "epoch: 2  |  batch_id: 0  |  train loss: 3.3425393  |  test loss: 2.6992912  |  lr: 9.227e-06  |  runtime: 0h 0m 7s\n",
      "epoch: 2  |  batch_id: 303  |  train loss: 3.4127638  |  test loss: 2.8539684  |  lr: 9.195e-06  |  runtime: 0h 0m 51s\n",
      "epoch: 2  |  batch_id: 606  |  train loss: 3.3307862  |  test loss: 2.8553915  |  lr: 9.162e-06  |  runtime: 0h 0m 50s\n",
      "epoch: 2  |  batch_id: 909  |  train loss: 3.3451915  |  test loss: 3.0098820  |  lr: 9.128e-06  |  runtime: 0h 0m 52s\n",
      "epoch: 2  |  batch_id: 1212  |  train loss: 3.4901376  |  test loss: 3.0755687  |  lr: 9.094e-06  |  runtime: 0h 0m 51s\n",
      "epoch: 2  |  batch_id: 1515  |  train loss: 2.9427128  |  test loss: 2.7764988  |  lr: 9.059e-06  |  runtime: 0h 0m 50s\n",
      "epoch: 2  |  batch_id: 1818  |  train loss: 3.3209145  |  test loss: 2.6227117  |  lr: 9.024e-06  |  runtime: 0h 0m 56s\n",
      "epoch: 2  |  batch_id: 2121  |  train loss: 3.0479970  |  test loss: 2.8137872  |  lr: 8.988e-06  |  runtime: 0h 0m 49s\n",
      "epoch: 2  |  batch_id: 2424  |  train loss: 2.6821184  |  test loss: 2.7358718  |  lr: 8.952e-06  |  runtime: 0h 0m 52s\n",
      "epoch: 2  |  batch_id: 2727  |  train loss: 2.6831188  |  test loss: 2.7086086  |  lr: 8.915e-06  |  runtime: 0h 0m 49s\n",
      "epoch: 2  |  batch_id: 3030  |  train loss: 2.7884574  |  test loss: 2.5804601  |  lr: 8.877e-06  |  runtime: 0h 0m 49s\n",
      "epoch: 2  |  batch_id: 3333  |  train loss: 2.8992596  |  test loss: 2.6051872  |  lr: 8.839e-06  |  runtime: 0h 0m 51s\n",
      "epoch: 2  |  batch_id: 3636  |  train loss: 2.5882988  |  test loss: 2.7824836  |  lr: 8.800e-06  |  runtime: 0h 0m 51s\n",
      "epoch: 2  |  batch_id: 3939  |  train loss: 2.4635391  |  test loss: 2.5979815  |  lr: 8.761e-06  |  runtime: 0h 0m 48s\n",
      "epoch: 2  |  batch_id: 4242  |  train loss: 2.7395141  |  test loss: 2.7779298  |  lr: 8.721e-06  |  runtime: 0h 0m 52s\n",
      "epoch: 2  |  batch_id: 4545  |  train loss: 2.9293652  |  test loss: 2.5650959  |  lr: 8.681e-06  |  runtime: 0h 0m 53s\n",
      "epoch: 2  |  batch_id: 4848  |  train loss: 2.5137601  |  test loss: 2.7035046  |  lr: 8.640e-06  |  runtime: 0h 0m 51s\n",
      "epoch: 2  |  batch_id: 5151  |  train loss: 2.6198401  |  test loss: 2.5627170  |  lr: 8.599e-06  |  runtime: 0h 0m 53s\n",
      "epoch: 2  |  batch_id: 5454  |  train loss: 2.6391151  |  test loss: 2.5246689  |  lr: 8.557e-06  |  runtime: 0h 0m 53s\n",
      "epoch: 2  |  batch_id: 5757  |  train loss: 2.6677427  |  test loss: 2.5163271  |  lr: 8.515e-06  |  runtime: 0h 0m 49s\n",
      "epoch: 2  |  batch_id: 6060  |  train loss: 2.6811588  |  test loss: 2.4783185  |  lr: 8.473e-06  |  runtime: 0h 0m 53s\n",
      "epoch: 2  |  batch_id: 6363  |  train loss: 2.5614762  |  test loss: 2.6974728  |  lr: 8.429e-06  |  runtime: 0h 0m 51s\n",
      "epoch: 2  |  batch_id: 6666  |  train loss: 2.7811162  |  test loss: 2.6220231  |  lr: 8.386e-06  |  runtime: 0h 0m 51s\n",
      "epoch: 2  |  batch_id: 6969  |  train loss: 3.0339265  |  test loss: 2.4221749  |  lr: 8.341e-06  |  runtime: 0h 0m 49s\n",
      "epoch: 2  |  batch_id: 7272  |  train loss: 2.5423298  |  test loss: 2.5009990  |  lr: 8.297e-06  |  runtime: 0h 0m 54s\n",
      "epoch: 2  |  batch_id: 7575  |  train loss: 2.5696549  |  test loss: 2.3717756  |  lr: 8.252e-06  |  runtime: 0h 0m 50s\n",
      "epoch: 2  |  batch_id: 7878  |  train loss: 2.6647053  |  test loss: 2.5766621  |  lr: 8.206e-06  |  runtime: 0h 0m 55s\n",
      "epoch: 2  |  batch_id: 8181  |  train loss: 2.2296052  |  test loss: 2.4505825  |  lr: 8.160e-06  |  runtime: 0h 0m 54s\n",
      "epoch: 2  |  batch_id: 8484  |  train loss: 2.5919890  |  test loss: 2.3172669  |  lr: 8.114e-06  |  runtime: 0h 0m 51s\n",
      "epoch: 2  |  batch_id: 8787  |  train loss: 2.5977979  |  test loss: 2.3457761  |  lr: 8.067e-06  |  runtime: 0h 0m 55s\n",
      "epoch: 2  |  batch_id: 9090  |  train loss: 2.5476933  |  test loss: 2.1267574  |  lr: 8.020e-06  |  runtime: 0h 0m 55s\n",
      "epoch: 2  |  batch_id: 9393  |  train loss: 2.3077636  |  test loss: 2.4283109  |  lr: 7.972e-06  |  runtime: 0h 0m 56s\n",
      "epoch: 2  |  batch_id: 9696  |  train loss: 2.7511611  |  test loss: 2.2198956  |  lr: 7.924e-06  |  runtime: 0h 0m 55s\n",
      "epoch: 2  |  batch_id: 9999  |  train loss: 2.4422231  |  test loss: 2.4385204  |  lr: 7.876e-06  |  runtime: 0h 0m 50s\n",
      "epoch: 2  |  batch_id: 10302  |  train loss: 2.5354719  |  test loss: 2.2885265  |  lr: 7.827e-06  |  runtime: 0h 0m 55s\n",
      "epoch: 2  |  batch_id: 10605  |  train loss: 2.4278498  |  test loss: 2.3256414  |  lr: 7.778e-06  |  runtime: 0h 0m 51s\n",
      "epoch: 2  |  batch_id: 10908  |  train loss: 2.7771590  |  test loss: 2.2748551  |  lr: 7.728e-06  |  runtime: 0h 0m 55s\n",
      "epoch: 2  |  batch_id: 11211  |  train loss: 2.9873242  |  test loss: 2.2304416  |  lr: 7.679e-06  |  runtime: 0h 0m 53s\n",
      "epoch: 2  |  batch_id: 11514  |  train loss: 2.6258516  |  test loss: 2.3006372  |  lr: 7.628e-06  |  runtime: 0h 0m 52s\n",
      "epoch: 2  |  batch_id: 11817  |  train loss: 2.1343434  |  test loss: 2.1789145  |  lr: 7.578e-06  |  runtime: 0h 0m 55s\n",
      "epoch: 2  |  batch_id: 12120  |  train loss: 2.3540063  |  test loss: 2.3814607  |  lr: 7.527e-06  |  runtime: 0h 0m 53s\n",
      "epoch: 2  |  batch_id: 12423  |  train loss: 2.3748999  |  test loss: 2.1019230  |  lr: 7.475e-06  |  runtime: 0h 0m 52s\n",
      "epoch: 2  |  batch_id: 12726  |  train loss: 2.0573807  |  test loss: 2.1835313  |  lr: 7.424e-06  |  runtime: 0h 0m 59s\n",
      "epoch: 2  |  batch_id: 13029  |  train loss: 2.4174895  |  test loss: 2.0362930  |  lr: 7.372e-06  |  runtime: 0h 0m 50s\n",
      "epoch: 2  |  batch_id: 13332  |  train loss: 2.8666348  |  test loss: 2.0658193  |  lr: 7.320e-06  |  runtime: 0h 0m 55s\n",
      "epoch: 2  |  batch_id: 13635  |  train loss: 2.3881040  |  test loss: 2.2260113  |  lr: 7.267e-06  |  runtime: 0h 0m 53s\n",
      "epoch: 2  |  batch_id: 13938  |  train loss: 2.6966565  |  test loss: 2.3859167  |  lr: 7.215e-06  |  runtime: 0h 0m 49s\n",
      "epoch: 2  |  batch_id: 14241  |  train loss: 2.5584636  |  test loss: 2.0442696  |  lr: 7.161e-06  |  runtime: 0h 0m 53s\n",
      "epoch: 2  |  batch_id: 14544  |  train loss: 2.6229098  |  test loss: 2.1920958  |  lr: 7.108e-06  |  runtime: 0h 0m 47s\n",
      "epoch: 2  |  batch_id: 14847  |  train loss: 2.3165913  |  test loss: 2.0811746  |  lr: 7.055e-06  |  runtime: 0h 0m 52s\n",
      "epoch: 2  |  batch_id: 15150  |  train loss: 2.2681780  |  test loss: 2.2653463  |  lr: 7.001e-06  |  runtime: 0h 0m 52s\n",
      "epoch: 3  |  batch_id: 0  |  train loss: 2.0040007  |  test loss: 2.1272366  |  lr: 6.997e-06  |  runtime: 0h 0m 7s\n",
      "epoch: 3  |  batch_id: 303  |  train loss: 2.0075192  |  test loss: 2.0974090  |  lr: 6.943e-06  |  runtime: 0h 0m 53s\n",
      "epoch: 3  |  batch_id: 606  |  train loss: 2.2329931  |  test loss: 1.9794786  |  lr: 6.889e-06  |  runtime: 0h 0m 49s\n",
      "epoch: 3  |  batch_id: 909  |  train loss: 2.1964200  |  test loss: 2.1616597  |  lr: 6.834e-06  |  runtime: 0h 0m 53s\n",
      "epoch: 3  |  batch_id: 1212  |  train loss: 2.1547976  |  test loss: 2.2389278  |  lr: 6.779e-06  |  runtime: 0h 0m 52s\n",
      "epoch: 3  |  batch_id: 1515  |  train loss: 2.3429086  |  test loss: 2.1444383  |  lr: 6.724e-06  |  runtime: 0h 0m 48s\n",
      "epoch: 3  |  batch_id: 1818  |  train loss: 2.4258492  |  test loss: 1.9884775  |  lr: 6.669e-06  |  runtime: 0h 0m 53s\n",
      "epoch: 3  |  batch_id: 2121  |  train loss: 2.0531788  |  test loss: 2.2311599  |  lr: 6.614e-06  |  runtime: 0h 0m 53s\n",
      "epoch: 3  |  batch_id: 2424  |  train loss: 2.0805132  |  test loss: 2.0339341  |  lr: 6.558e-06  |  runtime: 0h 0m 52s\n",
      "epoch: 3  |  batch_id: 2727  |  train loss: 1.8683610  |  test loss: 1.8796637  |  lr: 6.503e-06  |  runtime: 0h 0m 53s\n",
      "epoch: 3  |  batch_id: 3030  |  train loss: 2.1032953  |  test loss: 2.2358270  |  lr: 6.447e-06  |  runtime: 0h 0m 52s\n",
      "epoch: 3  |  batch_id: 3333  |  train loss: 2.1556435  |  test loss: 2.1134326  |  lr: 6.391e-06  |  runtime: 0h 0m 51s\n",
      "epoch: 3  |  batch_id: 3636  |  train loss: 2.0035226  |  test loss: 2.0387282  |  lr: 6.335e-06  |  runtime: 0h 0m 48s\n",
      "epoch: 3  |  batch_id: 3939  |  train loss: 2.0190730  |  test loss: 1.9989901  |  lr: 6.278e-06  |  runtime: 0h 0m 52s\n",
      "epoch: 3  |  batch_id: 4242  |  train loss: 1.9742579  |  test loss: 2.0618765  |  lr: 6.222e-06  |  runtime: 0h 1m 4s\n",
      "epoch: 3  |  batch_id: 4545  |  train loss: 2.2808847  |  test loss: 2.2613599  |  lr: 6.165e-06  |  runtime: 0h 0m 58s\n",
      "epoch: 3  |  batch_id: 4848  |  train loss: 2.2149606  |  test loss: 2.1366146  |  lr: 6.109e-06  |  runtime: 0h 0m 57s\n",
      "epoch: 3  |  batch_id: 5151  |  train loss: 2.1710947  |  test loss: 1.9612526  |  lr: 6.052e-06  |  runtime: 0h 1m 1s\n",
      "epoch: 3  |  batch_id: 5454  |  train loss: 2.4997716  |  test loss: 1.9413577  |  lr: 5.995e-06  |  runtime: 0h 0m 53s\n",
      "epoch: 3  |  batch_id: 5757  |  train loss: 1.9295743  |  test loss: 2.0320153  |  lr: 5.938e-06  |  runtime: 0h 0m 53s\n",
      "epoch: 3  |  batch_id: 6060  |  train loss: 2.0855174  |  test loss: 2.0542488  |  lr: 5.881e-06  |  runtime: 0h 1m 1s\n",
      "epoch: 3  |  batch_id: 6363  |  train loss: 2.1513867  |  test loss: 2.1127653  |  lr: 5.824e-06  |  runtime: 0h 1m 6s\n",
      "epoch: 3  |  batch_id: 6666  |  train loss: 2.0010495  |  test loss: 1.9834405  |  lr: 5.767e-06  |  runtime: 0h 0m 52s\n",
      "epoch: 3  |  batch_id: 6969  |  train loss: 1.9311147  |  test loss: 2.0801878  |  lr: 5.710e-06  |  runtime: 0h 1m 0s\n",
      "epoch: 3  |  batch_id: 7272  |  train loss: 2.1445327  |  test loss: 1.8502584  |  lr: 5.653e-06  |  runtime: 0h 1m 2s\n",
      "epoch: 3  |  batch_id: 7575  |  train loss: 2.0006797  |  test loss: 2.0595317  |  lr: 5.595e-06  |  runtime: 0h 1m 6s\n",
      "epoch: 3  |  batch_id: 7878  |  train loss: 1.9299961  |  test loss: 1.9018706  |  lr: 5.538e-06  |  runtime: 0h 0m 56s\n",
      "epoch: 3  |  batch_id: 8181  |  train loss: 1.9962397  |  test loss: 2.0091438  |  lr: 5.481e-06  |  runtime: 0h 0m 52s\n",
      "epoch: 3  |  batch_id: 8484  |  train loss: 2.1836529  |  test loss: 1.7848499  |  lr: 5.424e-06  |  runtime: 0h 0m 51s\n",
      "epoch: 3  |  batch_id: 8787  |  train loss: 1.8315655  |  test loss: 2.0064764  |  lr: 5.367e-06  |  runtime: 0h 0m 51s\n",
      "epoch: 3  |  batch_id: 9090  |  train loss: 2.0137944  |  test loss: 1.8361238  |  lr: 5.309e-06  |  runtime: 0h 0m 51s\n",
      "epoch: 3  |  batch_id: 9393  |  train loss: 2.0467682  |  test loss: 2.0020792  |  lr: 5.252e-06  |  runtime: 0h 0m 51s\n",
      "epoch: 3  |  batch_id: 9696  |  train loss: 2.1636186  |  test loss: 1.9335966  |  lr: 5.195e-06  |  runtime: 0h 0m 48s\n",
      "epoch: 3  |  batch_id: 9999  |  train loss: 2.0616703  |  test loss: 1.8550901  |  lr: 5.138e-06  |  runtime: 0h 0m 52s\n",
      "epoch: 3  |  batch_id: 10302  |  train loss: 2.3303475  |  test loss: 2.0904884  |  lr: 5.081e-06  |  runtime: 0h 0m 52s\n",
      "epoch: 3  |  batch_id: 10605  |  train loss: 2.3993869  |  test loss: 1.9932071  |  lr: 5.024e-06  |  runtime: 0h 0m 47s\n",
      "epoch: 3  |  batch_id: 10908  |  train loss: 2.4177954  |  test loss: 2.2951875  |  lr: 4.967e-06  |  runtime: 0h 0m 48s\n",
      "epoch: 3  |  batch_id: 11211  |  train loss: 2.1838744  |  test loss: 2.0461328  |  lr: 4.910e-06  |  runtime: 0h 0m 46s\n",
      "epoch: 3  |  batch_id: 11514  |  train loss: 1.8172847  |  test loss: 1.9172009  |  lr: 4.854e-06  |  runtime: 0h 0m 51s\n",
      "epoch: 3  |  batch_id: 11817  |  train loss: 2.1050184  |  test loss: 1.9780540  |  lr: 4.797e-06  |  runtime: 0h 0m 50s\n",
      "epoch: 3  |  batch_id: 12120  |  train loss: 2.0026424  |  test loss: 2.0221028  |  lr: 4.741e-06  |  runtime: 0h 0m 51s\n",
      "epoch: 3  |  batch_id: 12423  |  train loss: 2.0057647  |  test loss: 1.9347122  |  lr: 4.684e-06  |  runtime: 0h 0m 51s\n",
      "epoch: 3  |  batch_id: 12726  |  train loss: 1.9201510  |  test loss: 2.0643384  |  lr: 4.628e-06  |  runtime: 0h 0m 51s\n",
      "epoch: 3  |  batch_id: 13029  |  train loss: 1.8947992  |  test loss: 2.1729522  |  lr: 4.572e-06  |  runtime: 0h 0m 51s\n",
      "epoch: 3  |  batch_id: 13332  |  train loss: 2.0444472  |  test loss: 1.8273849  |  lr: 4.516e-06  |  runtime: 0h 0m 51s\n",
      "epoch: 3  |  batch_id: 13635  |  train loss: 2.0072446  |  test loss: 1.8922962  |  lr: 4.460e-06  |  runtime: 0h 0m 52s\n",
      "epoch: 3  |  batch_id: 13938  |  train loss: 1.7941256  |  test loss: 1.9420042  |  lr: 4.405e-06  |  runtime: 0h 0m 52s\n",
      "epoch: 3  |  batch_id: 14241  |  train loss: 1.7846317  |  test loss: 2.0319347  |  lr: 4.349e-06  |  runtime: 0h 0m 52s\n",
      "epoch: 3  |  batch_id: 14544  |  train loss: 1.8613617  |  test loss: 1.9081743  |  lr: 4.294e-06  |  runtime: 0h 0m 46s\n",
      "epoch: 3  |  batch_id: 14847  |  train loss: 2.1074100  |  test loss: 1.9763874  |  lr: 4.239e-06  |  runtime: 0h 0m 52s\n",
      "epoch: 3  |  batch_id: 15150  |  train loss: 2.0836861  |  test loss: 2.1309752  |  lr: 4.184e-06  |  runtime: 0h 0m 47s\n",
      "epoch: 4  |  batch_id: 0  |  train loss: 1.9987460  |  test loss: 1.7314475  |  lr: 4.181e-06  |  runtime: 0h 0m 7s\n",
      "epoch: 4  |  batch_id: 303  |  train loss: 2.2735868  |  test loss: 2.2614129  |  lr: 4.126e-06  |  runtime: 0h 0m 51s\n",
      "epoch: 4  |  batch_id: 606  |  train loss: 1.9885521  |  test loss: 2.0764291  |  lr: 4.072e-06  |  runtime: 0h 0m 52s\n",
      "epoch: 4  |  batch_id: 909  |  train loss: 1.9515905  |  test loss: 1.9437599  |  lr: 4.017e-06  |  runtime: 0h 0m 56s\n",
      "epoch: 4  |  batch_id: 1212  |  train loss: 2.2916718  |  test loss: 1.9521000  |  lr: 3.964e-06  |  runtime: 0h 0m 51s\n",
      "epoch: 4  |  batch_id: 1515  |  train loss: 1.7722254  |  test loss: 1.9038424  |  lr: 3.910e-06  |  runtime: 0h 0m 50s\n",
      "epoch: 4  |  batch_id: 1818  |  train loss: 1.9772682  |  test loss: 1.8201368  |  lr: 3.856e-06  |  runtime: 0h 0m 52s\n",
      "epoch: 4  |  batch_id: 2121  |  train loss: 1.9097743  |  test loss: 1.7002487  |  lr: 3.803e-06  |  runtime: 0h 0m 48s\n",
      "epoch: 4  |  batch_id: 2424  |  train loss: 1.8081079  |  test loss: 1.8964721  |  lr: 3.750e-06  |  runtime: 0h 0m 46s\n",
      "epoch: 4  |  batch_id: 2727  |  train loss: 1.9508235  |  test loss: 1.9809272  |  lr: 3.698e-06  |  runtime: 0h 0m 47s\n",
      "epoch: 4  |  batch_id: 3030  |  train loss: 2.0858593  |  test loss: 1.8703284  |  lr: 3.646e-06  |  runtime: 0h 0m 51s\n",
      "epoch: 4  |  batch_id: 3333  |  train loss: 1.9963973  |  test loss: 2.0069027  |  lr: 3.594e-06  |  runtime: 0h 0m 51s\n",
      "epoch: 4  |  batch_id: 3636  |  train loss: 1.7369635  |  test loss: 1.7696700  |  lr: 3.542e-06  |  runtime: 0h 0m 50s\n",
      "epoch: 4  |  batch_id: 3939  |  train loss: 1.8054998  |  test loss: 1.9819903  |  lr: 3.490e-06  |  runtime: 0h 0m 50s\n",
      "epoch: 4  |  batch_id: 4242  |  train loss: 1.7861573  |  test loss: 1.9832442  |  lr: 3.439e-06  |  runtime: 0h 0m 51s\n",
      "epoch: 4  |  batch_id: 4545  |  train loss: 1.7913451  |  test loss: 1.8051708  |  lr: 3.389e-06  |  runtime: 0h 0m 51s\n",
      "epoch: 4  |  batch_id: 4848  |  train loss: 2.5248280  |  test loss: 1.8243496  |  lr: 3.338e-06  |  runtime: 0h 0m 51s\n",
      "epoch: 4  |  batch_id: 5151  |  train loss: 1.8683956  |  test loss: 1.8935026  |  lr: 3.288e-06  |  runtime: 0h 0m 51s\n",
      "epoch: 4  |  batch_id: 5454  |  train loss: 1.8563637  |  test loss: 1.8251445  |  lr: 3.239e-06  |  runtime: 0h 0m 49s\n",
      "epoch: 4  |  batch_id: 5757  |  train loss: 1.6668692  |  test loss: 2.0462465  |  lr: 3.189e-06  |  runtime: 0h 0m 51s\n",
      "epoch: 4  |  batch_id: 6060  |  train loss: 1.7497576  |  test loss: 2.0433815  |  lr: 3.140e-06  |  runtime: 0h 0m 46s\n",
      "epoch: 4  |  batch_id: 6363  |  train loss: 1.8627496  |  test loss: 1.9986811  |  lr: 3.092e-06  |  runtime: 0h 0m 46s\n",
      "epoch: 4  |  batch_id: 6666  |  train loss: 2.2087183  |  test loss: 1.7439951  |  lr: 3.044e-06  |  runtime: 0h 0m 51s\n",
      "epoch: 4  |  batch_id: 6969  |  train loss: 1.7487452  |  test loss: 2.1659625  |  lr: 2.996e-06  |  runtime: 0h 0m 51s\n",
      "epoch: 4  |  batch_id: 7272  |  train loss: 2.1581554  |  test loss: 1.9400902  |  lr: 2.949e-06  |  runtime: 0h 0m 52s\n",
      "epoch: 4  |  batch_id: 7575  |  train loss: 1.8983933  |  test loss: 1.8497877  |  lr: 2.902e-06  |  runtime: 0h 0m 50s\n",
      "epoch: 4  |  batch_id: 7878  |  train loss: 1.8017848  |  test loss: 1.9517133  |  lr: 2.855e-06  |  runtime: 0h 0m 52s\n",
      "epoch: 4  |  batch_id: 8181  |  train loss: 2.2013812  |  test loss: 1.8750600  |  lr: 2.809e-06  |  runtime: 0h 0m 50s\n",
      "epoch: 4  |  batch_id: 8484  |  train loss: 2.1034184  |  test loss: 1.9241014  |  lr: 2.763e-06  |  runtime: 0h 0m 51s\n",
      "epoch: 4  |  batch_id: 8787  |  train loss: 1.6574006  |  test loss: 2.1059213  |  lr: 2.718e-06  |  runtime: 0h 0m 51s\n",
      "epoch: 4  |  batch_id: 9090  |  train loss: 1.9616379  |  test loss: 1.7425697  |  lr: 2.673e-06  |  runtime: 0h 0m 51s\n",
      "epoch: 4  |  batch_id: 9393  |  train loss: 1.8478341  |  test loss: 1.8159523  |  lr: 2.629e-06  |  runtime: 0h 0m 51s\n",
      "epoch: 4  |  batch_id: 9696  |  train loss: 2.2599673  |  test loss: 1.8552119  |  lr: 2.585e-06  |  runtime: 0h 0m 51s\n",
      "epoch: 4  |  batch_id: 9999  |  train loss: 1.8700612  |  test loss: 1.7834044  |  lr: 2.542e-06  |  runtime: 0h 0m 51s\n",
      "epoch: 4  |  batch_id: 10302  |  train loss: 1.7410911  |  test loss: 1.8493522  |  lr: 2.499e-06  |  runtime: 0h 0m 51s\n",
      "epoch: 4  |  batch_id: 10605  |  train loss: 1.6122699  |  test loss: 1.8153176  |  lr: 2.457e-06  |  runtime: 0h 0m 48s\n",
      "epoch: 4  |  batch_id: 10908  |  train loss: 1.9526381  |  test loss: 1.8440077  |  lr: 2.415e-06  |  runtime: 0h 0m 51s\n",
      "epoch: 4  |  batch_id: 11211  |  train loss: 1.9200143  |  test loss: 1.9757361  |  lr: 2.373e-06  |  runtime: 0h 0m 49s\n",
      "epoch: 4  |  batch_id: 11514  |  train loss: 2.0814066  |  test loss: 1.8932773  |  lr: 2.332e-06  |  runtime: 0h 0m 52s\n",
      "epoch: 4  |  batch_id: 11817  |  train loss: 1.8891191  |  test loss: 1.9158680  |  lr: 2.292e-06  |  runtime: 0h 0m 49s\n",
      "epoch: 4  |  batch_id: 12120  |  train loss: 2.1845973  |  test loss: 1.8634340  |  lr: 2.252e-06  |  runtime: 0h 0m 51s\n",
      "epoch: 4  |  batch_id: 12423  |  train loss: 1.8152063  |  test loss: 1.7287173  |  lr: 2.213e-06  |  runtime: 0h 0m 51s\n",
      "epoch: 4  |  batch_id: 12726  |  train loss: 1.8396351  |  test loss: 1.8613118  |  lr: 2.174e-06  |  runtime: 0h 0m 51s\n",
      "epoch: 4  |  batch_id: 13029  |  train loss: 2.1145720  |  test loss: 1.8602473  |  lr: 2.136e-06  |  runtime: 0h 0m 51s\n",
      "epoch: 4  |  batch_id: 13332  |  train loss: 1.9272920  |  test loss: 2.0920482  |  lr: 2.098e-06  |  runtime: 0h 0m 51s\n",
      "epoch: 4  |  batch_id: 13635  |  train loss: 1.7680191  |  test loss: 1.8698194  |  lr: 2.061e-06  |  runtime: 0h 0m 51s\n",
      "epoch: 4  |  batch_id: 13938  |  train loss: 1.7890534  |  test loss: 1.7859750  |  lr: 2.024e-06  |  runtime: 0h 0m 52s\n",
      "epoch: 4  |  batch_id: 14241  |  train loss: 1.9370317  |  test loss: 1.7741542  |  lr: 1.988e-06  |  runtime: 0h 0m 51s\n",
      "epoch: 4  |  batch_id: 14544  |  train loss: 1.9475455  |  test loss: 1.7832248  |  lr: 1.953e-06  |  runtime: 0h 0m 51s\n",
      "epoch: 4  |  batch_id: 14847  |  train loss: 2.0618382  |  test loss: 1.7398068  |  lr: 1.918e-06  |  runtime: 0h 0m 51s\n",
      "epoch: 4  |  batch_id: 15150  |  train loss: 1.9011410  |  test loss: 1.7198424  |  lr: 1.883e-06  |  runtime: 0h 0m 51s\n",
      "epoch: 5  |  batch_id: 0  |  train loss: 1.9840100  |  test loss: 2.0251150  |  lr: 1.881e-06  |  runtime: 0h 0m 6s\n",
      "epoch: 5  |  batch_id: 303  |  train loss: 1.9465322  |  test loss: 1.6953026  |  lr: 1.847e-06  |  runtime: 0h 0m 51s\n",
      "epoch: 5  |  batch_id: 606  |  train loss: 2.0720706  |  test loss: 2.0434968  |  lr: 1.814e-06  |  runtime: 0h 0m 51s\n",
      "epoch: 5  |  batch_id: 909  |  train loss: 1.8731402  |  test loss: 2.0105801  |  lr: 1.782e-06  |  runtime: 0h 0m 50s\n",
      "epoch: 5  |  batch_id: 1212  |  train loss: 2.3460116  |  test loss: 1.9036235  |  lr: 1.750e-06  |  runtime: 0h 0m 51s\n",
      "epoch: 5  |  batch_id: 1515  |  train loss: 1.9588556  |  test loss: 1.8318040  |  lr: 1.718e-06  |  runtime: 0h 0m 51s\n",
      "epoch: 5  |  batch_id: 1818  |  train loss: 1.7893759  |  test loss: 1.7506500  |  lr: 1.688e-06  |  runtime: 0h 0m 50s\n",
      "epoch: 5  |  batch_id: 2121  |  train loss: 1.8689653  |  test loss: 1.8811408  |  lr: 1.658e-06  |  runtime: 0h 0m 52s\n",
      "epoch: 5  |  batch_id: 2424  |  train loss: 1.7859366  |  test loss: 1.6296222  |  lr: 1.628e-06  |  runtime: 0h 0m 52s\n",
      "epoch: 5  |  batch_id: 2727  |  train loss: 1.8568084  |  test loss: 1.7558576  |  lr: 1.599e-06  |  runtime: 0h 0m 48s\n",
      "epoch: 5  |  batch_id: 3030  |  train loss: 1.7447459  |  test loss: 1.8398052  |  lr: 1.571e-06  |  runtime: 0h 0m 52s\n",
      "epoch: 5  |  batch_id: 3333  |  train loss: 2.0002825  |  test loss: 1.8948824  |  lr: 1.543e-06  |  runtime: 0h 0m 51s\n",
      "epoch: 5  |  batch_id: 3636  |  train loss: 1.8810425  |  test loss: 1.7882380  |  lr: 1.517e-06  |  runtime: 0h 0m 51s\n",
      "epoch: 5  |  batch_id: 3939  |  train loss: 1.7470813  |  test loss: 2.1595697  |  lr: 1.490e-06  |  runtime: 0h 0m 52s\n",
      "epoch: 5  |  batch_id: 4242  |  train loss: 1.8818063  |  test loss: 1.7190497  |  lr: 1.465e-06  |  runtime: 0h 0m 50s\n",
      "epoch: 5  |  batch_id: 4545  |  train loss: 2.1571469  |  test loss: 1.8983152  |  lr: 1.440e-06  |  runtime: 0h 0m 52s\n",
      "epoch: 5  |  batch_id: 4848  |  train loss: 2.0138850  |  test loss: 1.9008805  |  lr: 1.415e-06  |  runtime: 0h 0m 51s\n",
      "epoch: 5  |  batch_id: 5151  |  train loss: 1.7690976  |  test loss: 1.8618898  |  lr: 1.392e-06  |  runtime: 0h 0m 51s\n",
      "epoch: 5  |  batch_id: 5454  |  train loss: 1.9781622  |  test loss: 1.8695745  |  lr: 1.369e-06  |  runtime: 0h 0m 51s\n",
      "epoch: 5  |  batch_id: 5757  |  train loss: 2.0241354  |  test loss: 1.7860932  |  lr: 1.346e-06  |  runtime: 0h 0m 53s\n",
      "epoch: 5  |  batch_id: 6060  |  train loss: 1.9406257  |  test loss: 1.8916965  |  lr: 1.325e-06  |  runtime: 0h 0m 50s\n",
      "epoch: 5  |  batch_id: 6363  |  train loss: 2.0015054  |  test loss: 1.9849579  |  lr: 1.304e-06  |  runtime: 0h 0m 51s\n",
      "epoch: 5  |  batch_id: 6666  |  train loss: 1.9542068  |  test loss: 1.9460840  |  lr: 1.283e-06  |  runtime: 0h 0m 47s\n",
      "epoch: 5  |  batch_id: 6969  |  train loss: 1.7698338  |  test loss: 1.9336662  |  lr: 1.264e-06  |  runtime: 0h 0m 46s\n",
      "epoch: 5  |  batch_id: 7272  |  train loss: 1.9045658  |  test loss: 1.7827899  |  lr: 1.245e-06  |  runtime: 0h 0m 51s\n",
      "epoch: 5  |  batch_id: 7575  |  train loss: 1.7945741  |  test loss: 1.7002673  |  lr: 1.226e-06  |  runtime: 0h 0m 52s\n",
      "epoch: 5  |  batch_id: 7878  |  train loss: 1.8393612  |  test loss: 1.7583978  |  lr: 1.209e-06  |  runtime: 0h 0m 46s\n",
      "epoch: 5  |  batch_id: 8181  |  train loss: 1.8217698  |  test loss: 1.9141189  |  lr: 1.192e-06  |  runtime: 0h 0m 50s\n",
      "epoch: 5  |  batch_id: 8484  |  train loss: 1.8078222  |  test loss: 1.8508117  |  lr: 1.176e-06  |  runtime: 0h 0m 51s\n",
      "epoch: 5  |  batch_id: 8787  |  train loss: 1.7953613  |  test loss: 1.8028370  |  lr: 1.160e-06  |  runtime: 0h 0m 51s\n",
      "epoch: 5  |  batch_id: 9090  |  train loss: 1.7924311  |  test loss: 1.9563956  |  lr: 1.145e-06  |  runtime: 0h 0m 51s\n",
      "epoch: 5  |  batch_id: 9393  |  train loss: 1.8978310  |  test loss: 1.9138004  |  lr: 1.131e-06  |  runtime: 0h 0m 49s\n",
      "epoch: 5  |  batch_id: 9696  |  train loss: 1.8396466  |  test loss: 1.8016871  |  lr: 1.118e-06  |  runtime: 0h 0m 48s\n",
      "epoch: 5  |  batch_id: 9999  |  train loss: 1.8386883  |  test loss: 1.8616884  |  lr: 1.105e-06  |  runtime: 0h 0m 48s\n",
      "epoch: 5  |  batch_id: 10302  |  train loss: 1.8271434  |  test loss: 1.7282833  |  lr: 1.093e-06  |  runtime: 0h 0m 50s\n",
      "epoch: 5  |  batch_id: 10605  |  train loss: 1.8902873  |  test loss: 1.8469822  |  lr: 1.082e-06  |  runtime: 0h 0m 51s\n",
      "epoch: 5  |  batch_id: 10908  |  train loss: 1.8200759  |  test loss: 1.8082240  |  lr: 1.072e-06  |  runtime: 0h 0m 51s\n",
      "epoch: 5  |  batch_id: 11211  |  train loss: 1.7453674  |  test loss: 1.9546001  |  lr: 1.062e-06  |  runtime: 0h 0m 53s\n",
      "epoch: 5  |  batch_id: 11514  |  train loss: 1.9147866  |  test loss: 1.8129413  |  lr: 1.053e-06  |  runtime: 0h 0m 48s\n",
      "epoch: 5  |  batch_id: 11817  |  train loss: 1.8678839  |  test loss: 1.8765161  |  lr: 1.044e-06  |  runtime: 0h 0m 54s\n",
      "epoch: 5  |  batch_id: 12120  |  train loss: 1.8524152  |  test loss: 1.6728369  |  lr: 1.037e-06  |  runtime: 0h 0m 48s\n",
      "epoch: 5  |  batch_id: 12423  |  train loss: 1.8634024  |  test loss: 1.9052109  |  lr: 1.030e-06  |  runtime: 0h 0m 53s\n",
      "epoch: 5  |  batch_id: 12726  |  train loss: 1.6096799  |  test loss: 1.8032295  |  lr: 1.024e-06  |  runtime: 0h 0m 52s\n",
      "epoch: 5  |  batch_id: 13029  |  train loss: 1.8310119  |  test loss: 1.8473270  |  lr: 1.018e-06  |  runtime: 0h 0m 47s\n",
      "epoch: 5  |  batch_id: 13332  |  train loss: 1.9029638  |  test loss: 1.9216573  |  lr: 1.013e-06  |  runtime: 0h 0m 52s\n",
      "epoch: 5  |  batch_id: 13635  |  train loss: 2.0074079  |  test loss: 1.7751571  |  lr: 1.009e-06  |  runtime: 0h 0m 53s\n",
      "epoch: 5  |  batch_id: 13938  |  train loss: 1.8540347  |  test loss: 1.6943030  |  lr: 1.006e-06  |  runtime: 0h 0m 47s\n",
      "epoch: 5  |  batch_id: 14241  |  train loss: 1.9007547  |  test loss: 1.8953023  |  lr: 1.003e-06  |  runtime: 0h 0m 53s\n",
      "epoch: 5  |  batch_id: 14544  |  train loss: 2.1807096  |  test loss: 1.8174908  |  lr: 1.002e-06  |  runtime: 0h 0m 51s\n",
      "epoch: 5  |  batch_id: 14847  |  train loss: 1.9986651  |  test loss: 1.7292459  |  lr: 1.000e-06  |  runtime: 0h 0m 53s\n",
      "epoch: 5  |  batch_id: 15150  |  train loss: 1.8383044  |  test loss: 1.9233632  |  lr: 1.000e-06  |  runtime: 0h 0m 52s\n",
      "\n"
     ]
    }
   ],
   "source": [
    "# during training, output will look as follows (example output from my training).  Truncated to 5 epochs of output"
   ]
  },
  {
   "cell_type": "markdown",
   "id": "303c24f7-4897-4323-a543-41c8f5184f9f",
   "metadata": {},
   "source": [
    "# Inference #"
   ]
  },
  {
   "cell_type": "markdown",
   "id": "b4a15662-8710-4e61-81a7-bec0330ccd99",
   "metadata": {},
   "source": [
    "Now that the model has been training, we can use it for NL -> EN translation\n",
    "An important caveat:\n",
    "\n",
    "This model is training on ~140K NL<>EN sentence pairs, whereas leading LLMs (e.g. Llama 2)\n",
    "are trained on ~2 trillion token, so set your expectations accordingly :).  The primary purpose\n",
    "of this project is to provide a clear walkthrough of the basic Encoder/Decoder model layout."
   ]
  },
  {
   "cell_type": "code",
   "execution_count": 153,
   "id": "5ac0ba28-b324-4291-978b-2e06cb5f2da0",
   "metadata": {},
   "outputs": [],
   "source": [
    "# TODO\n",
    "# import torch\n",
    "# from model import *\n",
    "# M = torch.load(\"C:/Users/braun/OneDrive/Desktop/NL2EN_pytorch_model\", map_location=config.DEVICE)"
   ]
  },
  {
   "cell_type": "code",
   "execution_count": null,
   "id": "a268b2df-e2bb-4c1d-a1c3-70526b1a13cd",
   "metadata": {},
   "outputs": [],
   "source": [
    "# s = \"Hallo.\"  # Hello.\n",
    "# s = \"De lucht is blauw.\"  # the sky is blue.\n",
    "# s = \"Hij loopt in het park.\"  # he walks in the park.\n",
    "# s = \"Wat is het grappigste dat je ooit hebt gedaan?\"  # What's the funniest thing you've ever done?\n",
    "# s = \"Ik heb gisteren mijn moeder gebeld en ben toen boodschappen gaan doen.\"  # I made a call to my mother yesterday, and then I went grocery shopping.\n",
    "model.generate(s, max_len=30, greedy=True)"
   ]
  }
 ],
 "metadata": {
  "kernelspec": {
   "display_name": "NL2EN",
   "language": "python",
   "name": "nl2en"
  },
  "language_info": {
   "codemirror_mode": {
    "name": "ipython",
    "version": 3
   },
   "file_extension": ".py",
   "mimetype": "text/x-python",
   "name": "python",
   "nbconvert_exporter": "python",
   "pygments_lexer": "ipython3",
   "version": "3.10.12"
  }
 },
 "nbformat": 4,
 "nbformat_minor": 5
}
